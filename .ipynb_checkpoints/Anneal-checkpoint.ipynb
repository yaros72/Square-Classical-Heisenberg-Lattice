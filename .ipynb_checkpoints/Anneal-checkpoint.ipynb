{
 "cells": [
  {
   "cell_type": "code",
   "execution_count": null,
   "metadata": {
    "collapsed": true
   },
   "outputs": [],
   "source": [
    "import numpy as np\n",
    "from numba import jit\n",
    "\n",
    "@jit(nopython=True)\n",
    "def Lattice(configuration,L):\n",
    "    lattice=np.zeros((L,L,3))\n",
    "    theta=configuration[:L*L];phi=configuration[-L*L:]\n",
    "    theta=theta.reshape((L,L));phi=phi.reshape((L,L))\n",
    "    lattice[:,:,0]=np.sin(theta)*np.cos(2*phi);\n",
    "    lattice[:,:,1]=np.sin(theta)*np.sin(2*phi);\n",
    "    lattice[:,:,2]=np.cos(theta);\n",
    "    return lattice\n",
    "\n",
    "@jit(nopython=True)\n",
    "def hamiltonian(configuration,L,J,K,D):\n",
    "    lattice=Lattice(configuration,L);\n",
    "    Energy=0\n",
    "    for i in range(L):\n",
    "        for j in range(L):\n",
    "            for k in range(3):\n",
    "                Energy+=J*(lattice[i,j,k]*(lattice[(i+1)%L,j,k]+lattice[i,(j+1)%L,k]))\n",
    "            Energy+=K*lattice[i,j,2]**2;\n",
    "            Energy-=D*(lattice[i,j,2]*lattice[(i+1)%L,j,0]-lattice[i,j,0]*lattice[(i+1)%L,j,2]);\n",
    "            Energy+=D*(lattice[i,j,1]*lattice[i,(j+1)%L,2]-lattice[i,j,2]*lattice[i,(j+1)%L,1]);\n",
    "    return Energy/(L*L)\n",
    "\n",
    "from multiprocessing import Pool\n",
    "from itertools import product\n",
    "from scipy.optimize import basinhopping\n",
    "L=4\n",
    "J=0.1\n",
    "K=np.linspace(0.2,0.2,1)\n",
    "D=np.linspace(0,0.6,1)\n",
    "phases=np.zeros((K.size,D.size))\n",
    "bounds=[]\n",
    "for i in range(4*L*L):\n",
    "    bounds.append((0,np.pi))\n",
    "    \n",
    "def minimize(args):\n",
    "    configuration=np.random.random((4*L*L))*np.pi\n",
    "    minimizer_kwargs={\"args\":args,\"method\":\"CG\"}\n",
    "    result=basinhopping(hamiltonian, configuration,minimizer_kwargs=minimizer_kwargs,niter_success=5,stepsize=np.pi,niter=20,interval=2,disp=True)\n",
    "    phase=\"Antiferromagnet\" if np.round(result.fun,3)==-2 else \"Stripe\"\n",
    "    print args,phase,np.round(result.fun,3)\n",
    "    return result\n",
    "\n",
    "  "
   ]
  },
  {
   "cell_type": "code",
   "execution_count": null,
   "metadata": {
    "collapsed": true
   },
   "outputs": [],
   "source": []
  },
  {
   "cell_type": "code",
   "execution_count": null,
   "metadata": {
    "collapsed": true,
    "scrolled": false
   },
   "outputs": [],
   "source": [
    "p=Pool(12)\n",
    "map_args = [(L,J,k,d) for k,d in product(K,D)]\n",
    "results = map(minimize,map_args)"
   ]
  },
  {
   "cell_type": "code",
   "execution_count": null,
   "metadata": {
    "collapsed": true
   },
   "outputs": [],
   "source": [
    "np.save('results',np.array(results))\n",
    "np.save('K',K)\n",
    "np.save('D',D)"
   ]
  },
  {
   "cell_type": "code",
   "execution_count": 31,
   "metadata": {
    "collapsed": false,
    "scrolled": false
   },
   "outputs": [
    {
     "data": {
      "text/plain": [
       "<matplotlib.colorbar.Colorbar at 0x2ad677cff310>"
      ]
     },
     "execution_count": 31,
     "metadata": {},
     "output_type": "execute_result"
    },
    {
     "data": {
      "image/png": "[encoded data removed]",
      "text/plain": [
       "<matplotlib.figure.Figure at 0x2ad66a769a90>"
      ]
     },
     "metadata": {},
     "output_type": "display_data"
    }
   ],
   "source": [
    "import matplotlib.pyplot as plt\n",
    "%matplotlib inline\n",
    "from skimage.feature.peak import peak_local_max\n",
    "phases=np.zeros(len(results))\n",
    "E=np.zeros(len(results))\n",
    "for i,result in enumerate(results):\n",
    "    lattice=Lattice(result.x,L)\n",
    "    E[i]=result.fun\n",
    "    peaks=peak_local_max(np.abs(np.fft.fft2(lattice[:,:,2])),threshold_rel=0.25)\n",
    "    if len(peaks)==1:\n",
    "        phases[i]=1\n",
    "    elif len(peaks)==2:\n",
    "        phases[i]=3\n",
    "    else:\n",
    "        phases[i]=2\n",
    "E=E.reshape((K.size,D.size))\n",
    "phases=phases.reshape((K.size,D.size))\n",
    "plt.imshow(phases)\n",
    "plt.colorbar()"
   ]
  },
  {
   "cell_type": "code",
   "execution_count": 32,
   "metadata": {
    "collapsed": false
   },
   "outputs": [
    {
     "data": {
      "text/plain": [
       "<matplotlib.colorbar.Colorbar at 0x2ad677dd5ed0>"
      ]
     },
     "execution_count": 32,
     "metadata": {},
     "output_type": "execute_result"
    },
    {
     "data": {
      "image/png": "[encoded data removed]",
      "text/plain": [
       "<matplotlib.figure.Figure at 0x2ad6779a3f90>"
      ]
     },
     "metadata": {},
     "output_type": "display_data"
    }
   ],
   "source": [
    "E=E.reshape((K.size,D.size))\n",
    "plt.imshow(-E[:,::-1])\n",
    "plt.colorbar()"
   ]
  },
  {
   "cell_type": "code",
   "execution_count": null,
   "metadata": {
    "collapsed": true
   },
   "outputs": [],
   "source": []
  }
 ],
 "metadata": {
  "kernelspec": {
   "display_name": "Python 2",
   "language": "python",
   "name": "python2"
  },
  "language_info": {
   "codemirror_mode": {
    "name": "ipython",
    "version": 2
   },
   "file_extension": ".py",
   "mimetype": "text/x-python",
   "name": "python",
   "nbconvert_exporter": "python",
   "pygments_lexer": "ipython2",
   "version": "2.7.14"
  }
 },
 "nbformat": 4,
 "nbformat_minor": 2
}
